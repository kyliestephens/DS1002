{
  "nbformat": 4,
  "nbformat_minor": 0,
  "metadata": {
    "colab": {
      "provenance": [],
      "include_colab_link": true
    },
    "kernelspec": {
      "name": "python3",
      "display_name": "Python 3"
    },
    "language_info": {
      "name": "python"
    }
  },
  "cells": [
    {
      "cell_type": "markdown",
      "metadata": {
        "id": "view-in-github",
        "colab_type": "text"
      },
      "source": [
        "<a href=\"https://colab.research.google.com/github/kyliestephens/DS1002/blob/main/Kylie_HW_13_Classes.ipynb\" target=\"_parent\"><img src=\"https://colab.research.google.com/assets/colab-badge.svg\" alt=\"Open In Colab\"/></a>"
      ]
    },
    {
      "cell_type": "markdown",
      "source": [
        "## Assignment:  Classes\n",
        "### Due Sunday 28 April at 10pm"
      ],
      "metadata": {
        "id": "5Vy93BSp9Tum"
      }
    },
    {
      "cell_type": "markdown",
      "source": [
        "1.  Define a class called `Person` that has attributes `lastName`, `firstName`, `mother`, and `father`.  Both `mother` and `father` should have default value `unknown`.\n",
        "\n",
        "  Include a `__str__()` function that returns a string of the form '`firstName` `lastName`'.\n",
        "\n",
        "  Include a `__repr__()` function that returns a string that can be evaluated to recreate the `Person` object.\n",
        "\n"
      ],
      "metadata": {
        "id": "vcj5XQAI9Wsb"
      }
    },
    {
      "cell_type": "code",
      "source": [
        "class Person:\n",
        "  pass\n",
        "  def __init__(self, firstName, lastName, mother = 'unknown', father = 'unknown'):\n",
        "    self.firstName = firstName\n",
        "    self.lastName = lastName\n",
        "    self.mother = mother\n",
        "    self.father = father\n",
        "\n",
        "  def __str__(self):\n",
        "    return f\"{self.firstName} {self.lastName}\"\n",
        "\n",
        "  def __repr__(self):\n",
        "    return f\"Person('{self.firstName}', '{self.lastName}', '{self.mother}', {self.father}')\""
      ],
      "metadata": {
        "id": "mjHDwHv3EpVe"
      },
      "execution_count": null,
      "outputs": []
    },
    {
      "cell_type": "markdown",
      "source": [
        "Create a person (i.e., a `Person` object) called `p` with unknown parents.  (You will need to give your person a first and last name.) Check the type of `p`.  Include all inputs and outputs."
      ],
      "metadata": {
        "id": "-ppMsEIVHINl"
      }
    },
    {
      "cell_type": "code",
      "source": [
        "p = Person(\"Adam\", \"Smith \", \"unknown\", \"unknown\" )\n",
        "\n",
        "print(type(p))\n",
        "\n",
        "print(p)"
      ],
      "metadata": {
        "id": "5bwid_6gHIBH",
        "colab": {
          "base_uri": "https://localhost:8080/"
        },
        "outputId": "675dd4ce-b1b5-41d3-a4a0-6285316ef29f"
      },
      "execution_count": null,
      "outputs": [
        {
          "output_type": "stream",
          "name": "stdout",
          "text": [
            "<class '__main__.Person'>\n",
            "Adam Smith \n"
          ]
        }
      ]
    },
    {
      "cell_type": "markdown",
      "source": [
        "Verify that your `__str__` and `__repr__` functions are doing what they are supposed to do.  Include all inputs and outputs."
      ],
      "metadata": {
        "id": "Z6zlUC3xRtal"
      }
    },
    {
      "cell_type": "code",
      "source": [
        "print(str(p))\n",
        "print(repr(p))"
      ],
      "metadata": {
        "id": "jZO0dBQYRs-K",
        "colab": {
          "base_uri": "https://localhost:8080/"
        },
        "outputId": "f7a7379a-b511-4a1d-ccd3-1433c20e09c8"
      },
      "execution_count": null,
      "outputs": [
        {
          "output_type": "stream",
          "name": "stdout",
          "text": [
            "Adam Smith \n",
            "Person('Adam', 'Smith ', 'unknown', unknown')\n"
          ]
        }
      ]
    },
    {
      "cell_type": "markdown",
      "source": [
        "Suppose the mother of `p` has been found and is named Taylor Swift.  Create a new person named Taylor Swift, and make her the mother of `p`:\n",
        "\n",
        "```\n",
        "> p.mother\n",
        "'Taylor Swift'\n",
        "```"
      ],
      "metadata": {
        "id": "1mOAThQiHzoQ"
      }
    },
    {
      "cell_type": "code",
      "source": [
        "p2 = Person(\"Taylor\", \"Swift\")\n",
        "p.mother = \"Taylor Swift\"\n",
        "print(str(p))\n",
        "print(repr(p))"
      ],
      "metadata": {
        "id": "NYbDOorpHymz",
        "colab": {
          "base_uri": "https://localhost:8080/"
        },
        "outputId": "e3952fb5-7911-4644-97b8-c96ad5e713dd"
      },
      "execution_count": null,
      "outputs": [
        {
          "output_type": "stream",
          "name": "stdout",
          "text": [
            "Adam Smith \n",
            "Person('Adam', 'Smith ', 'Taylor Swift', unknown')\n"
          ]
        }
      ]
    },
    {
      "cell_type": "markdown",
      "source": [
        "2.  Add some methods to your class.  Start by copying the `class` definition you already wrote.  Then, inside the `class` definition:\n",
        "\n",
        "  (a) Write a method called `unknownParent()` which returns `True` if any parent is 'unknown' and `False` otherwise.\n",
        "\n",
        "  (b) Write a method called `maternalGrandmother()` which returns the mother's mother.  If the mother is unknown, it should return 'unknown'.\n",
        "\n"
      ],
      "metadata": {
        "id": "1g1pcrmFHzGh"
      }
    },
    {
      "cell_type": "code",
      "source": [
        "class Person:\n",
        "  pass\n",
        "  def __init__(self, firstName, lastName, mother = 'unknown', father = 'unknown'):\n",
        "    self.firstName = firstName\n",
        "    self.lastName = lastName\n",
        "    self.mother = mother\n",
        "    self.father = father\n",
        "\n",
        "  def unknownParent(self):\n",
        "    if self.mother == \"unknown\" or self.father == \"unknown\":\n",
        "      return True\n",
        "    else:\n",
        "      return False\n",
        "\n",
        "  def maternalGrandmother(self):\n",
        "    if self.mother == \"unknown\":\n",
        "      return 'unknown'\n",
        "    else:\n",
        "      return self.mother.mother\n",
        "\n",
        "  def __str__(self):\n",
        "    return f\"{self.firstName} {self.lastName}\"\n",
        "\n",
        "  def __repr__(self):\n",
        "    return f\"Person('{self.firstName}', '{self.lastName}', '{self.mother}', {self.father}')\""
      ],
      "metadata": {
        "id": "7mIxJGwwKTpv"
      },
      "execution_count": null,
      "outputs": []
    },
    {
      "cell_type": "markdown",
      "source": [
        "Create enough `Person` objects to test whether your methods are working properly.  Show all your inputs and outputs.  It is up to you to demonstrate that you have thoroughly tested the code.  You may use additional code and/or text chunks if it helps."
      ],
      "metadata": {
        "id": "l9-4gxd8FxAQ"
      }
    },
    {
      "cell_type": "code",
      "source": [
        "a = Person(\"Kylie\", \"Stephens\", \"unknown\", \"Thomas Stephens\")\n",
        "print(type(a))\n",
        "print(str(a))\n",
        "print(repr(a))\n"
      ],
      "metadata": {
        "id": "gX1qpcKzFwoZ",
        "colab": {
          "base_uri": "https://localhost:8080/"
        },
        "outputId": "3f0e0fc4-57f1-487a-eeba-2197597b4db7"
      },
      "execution_count": null,
      "outputs": [
        {
          "output_type": "stream",
          "name": "stdout",
          "text": [
            "<class '__main__.Person'>\n",
            "Kylie Stephens\n",
            "Person('Kylie', 'Stephens', 'unknown', Thomas Stephens')\n"
          ]
        }
      ]
    },
    {
      "cell_type": "code",
      "source": [
        "print(a.maternalGrandmother())"
      ],
      "metadata": {
        "colab": {
          "base_uri": "https://localhost:8080/"
        },
        "id": "E64DpmBEyzAA",
        "outputId": "54942a10-c491-4351-cc7f-8cf747a5da05"
      },
      "execution_count": null,
      "outputs": [
        {
          "output_type": "stream",
          "name": "stdout",
          "text": [
            "unknown\n"
          ]
        }
      ]
    },
    {
      "cell_type": "code",
      "source": [
        "print(a.unknownParent())"
      ],
      "metadata": {
        "colab": {
          "base_uri": "https://localhost:8080/"
        },
        "id": "g6SiHpRmzHyr",
        "outputId": "c724cb0e-5cd7-4648-c542-186f15b27305"
      },
      "execution_count": null,
      "outputs": [
        {
          "output_type": "stream",
          "name": "stdout",
          "text": [
            "True\n"
          ]
        }
      ]
    },
    {
      "cell_type": "code",
      "source": [
        "print(a.mother)\n",
        "print(a.father)"
      ],
      "metadata": {
        "colab": {
          "base_uri": "https://localhost:8080/"
        },
        "id": "lOEgh8YGzRlz",
        "outputId": "bee73328-fa8c-4fe4-f891-72a6717cdaae"
      },
      "execution_count": null,
      "outputs": [
        {
          "output_type": "stream",
          "name": "stdout",
          "text": [
            "unknown\n",
            "Thomas Stephens\n"
          ]
        }
      ]
    },
    {
      "cell_type": "code",
      "source": [
        "a.mother = Person(\"Kim\", \"Stephens\", \"Nancy Stastny\", \"unknown\")\n",
        "a.mother.mother = Person(\"Nancy\", \"Stastny\", \"unknown\", \"unknown\")\n",
        "print(a.maternalGrandmother())\n",
        "print(a.unknownParent())"
      ],
      "metadata": {
        "colab": {
          "base_uri": "https://localhost:8080/"
        },
        "id": "psw5zobIzaMf",
        "outputId": "014eb82f-75fc-4623-fede-5aac4ca2da65"
      },
      "execution_count": null,
      "outputs": [
        {
          "output_type": "stream",
          "name": "stdout",
          "text": [
            "Nancy Stastny\n",
            "False\n"
          ]
        }
      ]
    },
    {
      "cell_type": "code",
      "source": [
        "print(str(a.mother))\n",
        "print(repr(a.mother))"
      ],
      "metadata": {
        "colab": {
          "base_uri": "https://localhost:8080/"
        },
        "id": "BHGYvOrn6cEF",
        "outputId": "0fc41ed8-05ba-406d-ad60-a5a56e9de115"
      },
      "execution_count": null,
      "outputs": [
        {
          "output_type": "stream",
          "name": "stdout",
          "text": [
            "Kim Stephens\n",
            "Person('Kim', 'Stephens', 'Nancy Stastny', unknown')\n"
          ]
        }
      ]
    },
    {
      "cell_type": "code",
      "source": [
        "print(str(a.mother.mother))\n",
        "print(repr(a.mother.mother))"
      ],
      "metadata": {
        "colab": {
          "base_uri": "https://localhost:8080/"
        },
        "id": "OCEJtGQs6fe5",
        "outputId": "d113aa10-27ea-4721-83f9-be9ad577bb32"
      },
      "execution_count": null,
      "outputs": [
        {
          "output_type": "stream",
          "name": "stdout",
          "text": [
            "Nancy Stastny\n",
            "Person('Nancy', 'Stastny', 'unknown', unknown')\n"
          ]
        }
      ]
    },
    {
      "cell_type": "code",
      "source": [
        "#Demonstrating that the True/False function works because it now returns false when both parents are known\n",
        "print(a.mother)\n",
        "print(a.father)\n",
        "print(a.unknownParent())"
      ],
      "metadata": {
        "colab": {
          "base_uri": "https://localhost:8080/"
        },
        "id": "DyKgh8GG6697",
        "outputId": "f40ebeb7-b276-4e75-c4dc-eda584455a7b"
      },
      "execution_count": null,
      "outputs": [
        {
          "output_type": "stream",
          "name": "stdout",
          "text": [
            "Kim Stephens\n",
            "Thomas Stephens\n",
            "False\n"
          ]
        }
      ]
    },
    {
      "cell_type": "code",
      "source": [
        "print(a.mother.mother.unknownParent())"
      ],
      "metadata": {
        "colab": {
          "base_uri": "https://localhost:8080/"
        },
        "id": "WsYjorffNCrL",
        "outputId": "0925cb91-a9a3-4b92-cbb8-2a7f080a2b8e"
      },
      "execution_count": null,
      "outputs": [
        {
          "output_type": "stream",
          "name": "stdout",
          "text": [
            "True\n"
          ]
        }
      ]
    }
  ]
}