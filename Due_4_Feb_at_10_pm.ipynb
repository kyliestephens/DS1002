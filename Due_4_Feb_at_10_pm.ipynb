{
  "nbformat": 4,
  "nbformat_minor": 0,
  "metadata": {
    "colab": {
      "provenance": [],
      "include_colab_link": true
    },
    "kernelspec": {
      "name": "python3",
      "display_name": "Python 3"
    },
    "language_info": {
      "name": "python"
    }
  },
  "cells": [
    {
      "cell_type": "markdown",
      "metadata": {
        "id": "view-in-github",
        "colab_type": "text"
      },
      "source": [
        "<a href=\"https://colab.research.google.com/github/kyliestephens/DS1002/blob/main/Due_4_Feb_at_10_pm.ipynb\" target=\"_parent\"><img src=\"https://colab.research.google.com/assets/colab-badge.svg\" alt=\"Open In Colab\"/></a>"
      ]
    },
    {
      "cell_type": "markdown",
      "source": [
        "## DS 1002 homework due Sunday Feb 4 at 10 pm\n"
      ],
      "metadata": {
        "id": "zAw2bmn-TjFJ"
      }
    },
    {
      "cell_type": "markdown",
      "source": [
        "\n",
        "The notebook from Wednesday's class is in my GitHib repository, including the little script we wrote at the end to find mangos in a list of fruit.  The file is called `MorePythonBasics.ipynb`.\n",
        "\n",
        "(By the way I wondered if the correct spelling was \"mangos\" or \"mangoes\" and I found [this](https://www.mango.org/blog-mangos-or-mangoes/)!  Who knew?  There's a National Mango Board!  And they're prepared to adjudicate this and other difficult mango-related questions.)\n",
        "\n",
        "\n"
      ],
      "metadata": {
        "id": "Cmf4xleCSWCu"
      }
    },
    {
      "cell_type": "markdown",
      "source": [
        "### Problem 1:  finding fruit\n",
        "\n",
        "Adapt the function we wrote in class so that it takes two arguments,\n",
        "\n",
        "`fruit` and `hungryfor` ,\n",
        "\n",
        "and then searches through the list `fruit` for the item `hungryfor`.  The line that calls the function should look like\n",
        "\n",
        "`find_fruit(food, hungryfor)`\n",
        "\n",
        "Make it print out the results in the same way, so for example if `food` is what we entered in class and `hungryfor = \"tomatoes\"` then the output will be\n",
        "\n",
        "```python\n",
        "No tomatoes here.\n",
        "No tomatoes here.\n",
        "No tomatoes here.\n",
        "No tomatoes here.\n",
        "No tomatoes here.\n",
        "```\n",
        "Test your code by changing the values of `food` and `hungryfor` and make sure the output is what you expect.  Show a few outputs, each in its own code chunk.\n",
        "\n"
      ],
      "metadata": {
        "id": "rJLyGryAThhp"
      }
    },
    {
      "cell_type": "code",
      "source": [
        "fruit = [\"apples\", \"oranges\", \"mangos\", \"bananas\", \"blueberries\"]\n",
        "\n",
        "def find_fruit(food, hungryfor):\n",
        "  for x in food:\n",
        "    if x == \"mangos\" :\n",
        "      print(\"Hooray!  I found mangos.\")\n",
        "    else:\n",
        "      print(\"No mangos here.\")\n",
        "  for x in hungryfor:\n",
        "    if x == \"bananas\":\n",
        "      print(\"Yum, I am hungry for bananas.\")\n",
        "    else:\n",
        "      print(\"No bananas here.\")\n",
        "\n",
        "\n",
        "find_fruit(fruit, fruit)\n"
      ],
      "metadata": {
        "id": "YXwLLFCt6H2f",
        "outputId": "f05a47a9-1b16-4adb-b07f-b46f657de80e",
        "colab": {
          "base_uri": "https://localhost:8080/"
        }
      },
      "execution_count": 6,
      "outputs": [
        {
          "output_type": "stream",
          "name": "stdout",
          "text": [
            "No mangos here.\n",
            "No mangos here.\n",
            "Hooray!  I found mangos.\n",
            "No mangos here.\n",
            "No mangos here.\n",
            "No bananas here.\n",
            "No bananas here.\n",
            "No bananas here.\n",
            "Yum, I am hungry for bananas.\n",
            "No bananas here.\n"
          ]
        }
      ]
    },
    {
      "cell_type": "code",
      "source": [
        "fruit = [\"apples\", \"oranges\", \"mangos\", \"bananas\", \"blueberries\"]\n",
        "\n",
        "def find_fruit(food, hungryfor):\n",
        "  for x in food:\n",
        "    if x == \"apples\" :\n",
        "      print(\"Hooray!  I found apples.\")\n",
        "    else:\n",
        "      print(\"No apples here.\")\n",
        "  for x in hungryfor:\n",
        "    if x == \"blueberries\":\n",
        "      print(\"Yum, I just love to eat blueberries.\")\n",
        "    else:\n",
        "      print(\"No blueberries here.\")\n",
        "\n",
        "\n",
        "find_fruit(fruit, fruit)\n",
        "\n"
      ],
      "metadata": {
        "id": "fjbXfTGBE044",
        "outputId": "14d80fdb-5e9e-478c-b4cd-4845f7e63736",
        "colab": {
          "base_uri": "https://localhost:8080/"
        }
      },
      "execution_count": 13,
      "outputs": [
        {
          "output_type": "stream",
          "name": "stdout",
          "text": [
            "Hooray!  I found apples.\n",
            "No apples here.\n",
            "No apples here.\n",
            "No apples here.\n",
            "No apples here.\n",
            "No blueberries here.\n",
            "No blueberries here.\n",
            "No blueberries here.\n",
            "No blueberries here.\n",
            "Yum, I just love to eat blueberries.\n"
          ]
        }
      ]
    },
    {
      "cell_type": "code",
      "source": [
        "# put your first function call here, and make more code chunks for additional function calls"
      ],
      "metadata": {
        "id": "bYdqsfrh6KnE"
      },
      "execution_count": null,
      "outputs": []
    },
    {
      "cell_type": "markdown",
      "source": [
        "#### Notes\n",
        "1. Once you have run a code chunk in the notebook, it will remember that it has been run.  You don't have to call the function in the same code chunk where the function is defined.  In other words, to call the function with new inputs you can simply make a new code chunk, change the inputs, and call the function.  *You don't have to retype the definition of the function each time.*\n",
        "\n",
        "2. Make sure you clean things up when you're done, so you don't include old code that doesn't work or old incorrect outputs.\n"
      ],
      "metadata": {
        "id": "AMp-a1ym6W7w"
      }
    },
    {
      "cell_type": "markdown",
      "source": [
        "### Problem 2:  the `input()` function\n",
        "\n",
        "(a) Programming gets way more fun when you start to interact with your own programs!  Here is a function that lets you start doing that.  Run the following code and see what happens:\n"
      ],
      "metadata": {
        "id": "R-s9cZ6GYWNX"
      }
    },
    {
      "cell_type": "code",
      "source": [
        "input()\n",
        "print(\"Hello there!\")"
      ],
      "metadata": {
        "id": "IEK8O2qNYkXn",
        "outputId": "522daaff-f969-434d-d05b-7ceb7ab1c494",
        "colab": {
          "base_uri": "https://localhost:8080/"
        }
      },
      "execution_count": 14,
      "outputs": [
        {
          "output_type": "stream",
          "name": "stdout",
          "text": [
            "What is up?\n",
            "Hello there!\n"
          ]
        }
      ]
    },
    {
      "cell_type": "markdown",
      "source": [
        "(b) As you just saw, the code waits for you to enter something before it continues.  If you want to actually use the input in the code, you should assign its value to a variable:"
      ],
      "metadata": {
        "id": "sktZu8wWzFF6"
      }
    },
    {
      "cell_type": "code",
      "source": [
        "message = input()\n",
        "print(message)"
      ],
      "metadata": {
        "id": "fMmBkzbyz9Ty",
        "outputId": "e56661d6-8aee-4d63-d766-789ceab9de27",
        "colab": {
          "base_uri": "https://localhost:8080/"
        }
      },
      "execution_count": 15,
      "outputs": [
        {
          "output_type": "stream",
          "name": "stdout",
          "text": [
            "Hello everyone!\n",
            "Hello everyone!\n"
          ]
        }
      ]
    },
    {
      "cell_type": "markdown",
      "source": [
        "(c) Now you can start interacting.  Write some code that asks the user what they are hungry for (using a print statement), and then takes the user input, and then runs the `find_fruit` function from the previous code block using the user input as the `hungryfor` variable.  Test your code, and then include a few different outputs that demonstrate that the code works."
      ],
      "metadata": {
        "id": "ny41z-dQYmjQ"
      }
    },
    {
      "cell_type": "code",
      "source": [
        "print(\"What are you hungry for?\")\n",
        "message = input()\n",
        "fruit = [\"apples\", \"oranges\", \"mangos\", \"bananas\", \"blueberries\"]\n",
        "def find_fruit(hungryfor):\n",
        "   for x in hungryfor:\n",
        "    if x == message:\n",
        "      print(\"Yum! Here are some \" + message + \".\")\n",
        "    else:\n",
        "      print(\"Sorry, there is none of that available.\")\n",
        "find_fruit(fruit)\n"
      ],
      "metadata": {
        "id": "SKAVoAZ00xOx",
        "outputId": "76598a30-23a2-49d0-bb8f-7cd3e7dccb18",
        "colab": {
          "base_uri": "https://localhost:8080/"
        }
      },
      "execution_count": 45,
      "outputs": [
        {
          "output_type": "stream",
          "name": "stdout",
          "text": [
            "What are you hungry for?\n",
            "bananas\n",
            "Sorry, there is none of that available.\n",
            "Sorry, there is none of that available.\n",
            "Sorry, there is none of that available.\n",
            "Yum! Here are some bananas.\n",
            "Sorry, there is none of that available.\n"
          ]
        }
      ]
    },
    {
      "cell_type": "code",
      "source": [
        "print(\"What are you hungry for?\")\n",
        "message = input()\n",
        "fruit = [\"apples\", \"oranges\", \"mangos\", \"bananas\", \"blueberries\"]\n",
        "def find_fruit(hungryfor):\n",
        "   for x in hungryfor:\n",
        "    if x == message:\n",
        "      print(\"Yum! Here are some \" + message + \".\")\n",
        "    else:\n",
        "      print(\"Sorry, there is none of that available.\")\n",
        "find_fruit(fruit)"
      ],
      "metadata": {
        "id": "sQQVP1oa5dR7",
        "outputId": "36349d60-82d3-4dea-fb31-00de77233c53",
        "colab": {
          "base_uri": "https://localhost:8080/"
        }
      },
      "execution_count": 43,
      "outputs": [
        {
          "output_type": "stream",
          "name": "stdout",
          "text": [
            "What are you hungry for?\n",
            "apples\n",
            "Yum! Here are some apples.\n",
            "Sorry, there is none of that available.\n",
            "Sorry, there is none of that available.\n",
            "Sorry, there is none of that available.\n",
            "Sorry, there is none of that available.\n"
          ]
        }
      ]
    },
    {
      "cell_type": "markdown",
      "source": [
        "### Problem 3:  ratings  \n",
        "Write a piece of code which prompts a user with the question \"What is your rating? (1-10)\" and then asks for user input.  Let's say the input is 3.  Once the input is received, print out a message that says.\n",
        "\n",
        "\"Your rating is *** .\"\n",
        "\n",
        "Obviously, your program should print the number of stars corresponding to the input!  If the input is 5, it should print\n",
        "\n",
        "\"Your rating is ***** .\"\n",
        "\n",
        "Show at least two outputs of your code."
      ],
      "metadata": {
        "id": "5CWOlHBz0xoZ"
      }
    },
    {
      "cell_type": "code",
      "source": [
        "user_rating = input(\"What is your rating?(1-10)\")\n",
        "rating = int(user_rating)\n",
        "stars = '*' * int(rating)\n",
        "print(\"Your rating is {}.\".format(stars))\n",
        "\n"
      ],
      "metadata": {
        "id": "MCWnTAUW2Gin",
        "outputId": "83394baf-7925-417f-9266-db332d5ea468",
        "colab": {
          "base_uri": "https://localhost:8080/"
        }
      },
      "execution_count": 30,
      "outputs": [
        {
          "output_type": "stream",
          "name": "stdout",
          "text": [
            "What is your rating?(1-10)6\n",
            "Your rating is ******.\n"
          ]
        }
      ]
    },
    {
      "cell_type": "code",
      "source": [
        "user_rating = input(\"What is your rating?(1-10)\")\n",
        "rating = float(user_rating)\n",
        "stars = '*' * int(rating)\n",
        "if 1 <= rating <= 10:\n",
        "  print(\"Your rating is {}.\".format(stars))\n",
        "else:\n",
        "  print(\"This is not a valid input. Please try again.\")\n"
      ],
      "metadata": {
        "id": "nxm67oCk8Ukn",
        "outputId": "612d2854-073e-463c-fde4-c42a04daf81e",
        "colab": {
          "base_uri": "https://localhost:8080/"
        }
      },
      "execution_count": 36,
      "outputs": [
        {
          "output_type": "stream",
          "name": "stdout",
          "text": [
            "What is your rating?(1-10)12\n",
            "This is not a valid input. Please try again.\n"
          ]
        }
      ]
    },
    {
      "cell_type": "markdown",
      "source": [
        "You do not have to do this as part of the assignment, but one thing to think about with any code that has **interactivity** is that you want to make it **robust**.  This means you should imagine someone is *trying* to break your code, and you should try to make it as indestructible as possible.\n",
        "\n",
        "What will happen to your code if someone enters 3.5?  Or -12?  Or \"nonsense\"?  Test it and see.  Think about how you might guard against errors.\n"
      ],
      "metadata": {
        "id": "VRfc9puT2yac"
      }
    },
    {
      "cell_type": "code",
      "source": [
        "# The way I would code against such issues is by writing rating = float(user_rating). This would account for decimals in the rating.\n",
        "# I could also add code that said if 1 <= rating <= 10:\n",
        "# print....\n",
        "# else:\n",
        "# print(\"This is not a valid input. Please try again.\")"
      ],
      "metadata": {
        "id": "-E4aY9YeQfvp"
      },
      "execution_count": null,
      "outputs": []
    }
  ]
}