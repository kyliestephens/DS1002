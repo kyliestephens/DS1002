{
  "cells": [
    {
      "cell_type": "markdown",
      "metadata": {
        "id": "view-in-github",
        "colab_type": "text"
      },
      "source": [
        "<a href=\"https://colab.research.google.com/github/kyliestephens/DS1002/blob/main/Kylie's_HW_10_Bulls_Cows.ipynb\" target=\"_parent\"><img src=\"https://colab.research.google.com/assets/colab-badge.svg\" alt=\"Open In Colab\"/></a>"
      ]
    },
    {
      "cell_type": "markdown",
      "metadata": {
        "id": "lSwr8T3SNrkj"
      },
      "source": [
        "## Bulls and Cows:\n",
        "### Another guessing game.\n",
        "### Assignment due Wednesday 10 April at 10 am\n",
        "\n",
        "General instructions:\n",
        "\n",
        "1. You may work in teams of up to three people.  As usual, if you do this, make sure all names are clearly displayed at the top of your submission, and all team members should submit the same GitHub URL.\n",
        "\n",
        "1. Use only basic Python code.  Do not use `numpy` arrays or functions.\n",
        "\n",
        "2. Practice utilizing the coding concepts we have studied.  \n",
        "\n",
        "3. Write docstrings for all your functions.\n",
        "\n"
      ]
    },
    {
      "cell_type": "markdown",
      "metadata": {
        "id": "qrWRyeI2NwHA"
      },
      "source": [
        "### Goal:  program this game\n",
        "In this assignment you will program a version of an old game called Bulls and Cows.  It is somewhat similar to Wordle, but with numbers instead of words (and various other differences . . . read carefully!).\n",
        "\n",
        "The game is played like this:  \n",
        "1. The computer will choose a secret code that the player is trying to guess.\n",
        "2. The secret code will be 4 digits long.  It will use only the digits 1-6, and it will have no repeated digits.  For example the secret code might be 1326 or 6241 but it cannot be 2652 or 4913 or 2601.\n",
        "3. The computer will prompt the user for a guess, and the user will guess.  The guess must follow the same rules (4 digits long, only use digits 1-6, no repeats).  The program should not allow an invalid guess.\n",
        "4. After each guess, the computer will give feedback to the user as follows:  \n",
        "(i) Each digit of the guess that is in the secret code and in the correct position is called a Bull (B).  \n",
        "(ii) Each digit of the guess that exists somewhere in the secret code, but *not* in the same position as in the guess, is called a Cow (C).  \n",
        "(iii) A digit of the guess that doesn't occur anywhere in the secret code is called a miss (X).  \n",
        "The computer will inform the user how many Bulls, how many Cows, and how many misses the user's guess had.  \n",
        "The feedback will always start with B's, then list C's, then list X's.  \n",
        "For example if the secret code is 1326  \n",
        "and the guess is 4316  \n",
        "then the computer should respond with \"BBCX\"  \n",
        "because there are two Bulls (the 3 and the 6 are Bulls, because they occur in the same position in the guess as in the secret code),  \n",
        "one Cow (the 1, which is a correct digit but in the wrong position),  \n",
        "and one Miss (the 4, which does not occur anywhere in the secret code).  \n",
        "> **Important:** the feedback string should always list the Bulls first, then the Cows, then the Misses.  It should **not** tell the user which digits are which!  The only information in the feedback string is how many of each there are.  In the example above, for instance, the feedback is **not** \"XBCB\" but rather \"BBCX\".  This is different from Wordle, if you are familiar with that game.\n",
        "5. The user should then be prompted for another guess.  This guess-with-feedback process should be repeated until the user gets the correct code, at which point the computer should indicate that they have won the game.  However, the user should only be allowed 6 guesses; if they don't guess correctly in 6 attempts, then following the feedback from their final guess they should get a message that they have lost the game, and the secret code should be revealed.\n",
        "\n",
        "\n",
        "\n",
        "\n",
        "\n",
        "\n",
        "\n"
      ]
    },
    {
      "cell_type": "markdown",
      "source": [
        "### Steps\n",
        "We will build this game using several functions.  \n",
        "\n",
        "1. **Count the Bulls:**  \n",
        "Write a function that takes two lists of the same length, and returns the number of Bulls.  That is, it should return the number of indices where the lists contain the same element.  *(Note:  you don't have to check that the entries are between 1 and 6, or that there are no repeats, etc.  A different function will do that.)*\n",
        "\n",
        "> A sample run might look like\n",
        "```\n",
        "first = [11, 3, 17, 5, 1]\n",
        "second = [20, 2, 17, 3, 1]\n",
        "count_bulls(first,second)\n",
        "```\n",
        "```\n",
        " 2\n",
        "```\n"
      ],
      "metadata": {
        "id": "XSH1JULaurD1"
      }
    },
    {
      "cell_type": "markdown",
      "source": [
        "Define your function in the code chunk below.  The function definition command and the return command are pre-populated for you.  You just have to fill in the part which does the actual counting.  I recommend using a list comprehension to do this.\n"
      ],
      "metadata": {
        "id": "pXoOyBk7xmPa"
      }
    },
    {
      "cell_type": "code",
      "source": [
        "#The Bull Counting Function\n",
        "def count_bulls(a, b):\n",
        "  '''\n",
        "  function confirms lists are the same length\n",
        "  if condition met, function counts the number of indices where the lists contain the same element\n",
        "  '''\n",
        "  #Confirms that the two lists are of the same length.\n",
        "  if len(a) != len(b):\n",
        "        raise ValueError(\"The lengths of the lists must be the same length.\")\n",
        "  #Creating a count for number of bulls. Starts at zero. If the indices are in the same position\n",
        "  #And are the same value, the number of bulls increases by one\n",
        "  bulls = 0\n",
        "  for i in range(len(a)):\n",
        "      if a[i] == b[i]:\n",
        "            bulls += 1\n",
        "  return bulls\n",
        "#These are the two lists being taken by the function.\n",
        "a = [1, 2, 3, 4, 5]\n",
        "b = [1, 3, 7, 4, 6]\n",
        "#This will result in an output equal to the number of bulls.\n",
        "print(count_bulls(a, b))"
      ],
      "metadata": {
        "id": "B8SlptH7C5Zo",
        "outputId": "04592817-c9b6-4b10-adb4-afbd8b594836",
        "colab": {
          "base_uri": "https://localhost:8080/"
        }
      },
      "execution_count": 62,
      "outputs": [
        {
          "output_type": "stream",
          "name": "stdout",
          "text": [
            "2\n"
          ]
        }
      ]
    },
    {
      "cell_type": "code",
      "source": [
        "#Output is the text contained in my doc string.\n",
        "print(count_bulls.__doc__)"
      ],
      "metadata": {
        "id": "gZIsrQKVG5hO",
        "outputId": "6f809b9c-70ed-49d1-c712-07bbb86eebc1",
        "colab": {
          "base_uri": "https://localhost:8080/"
        }
      },
      "execution_count": 63,
      "outputs": [
        {
          "output_type": "stream",
          "name": "stdout",
          "text": [
            "\n",
            "  function confirms lists are the same length\n",
            "  if condition met, function counts the number of indices where the lists contain the same element\n",
            "  \n"
          ]
        }
      ]
    },
    {
      "cell_type": "markdown",
      "source": [
        "Add code and/or text chunks below to demonstrate that you have tested your code and that it works correctly."
      ],
      "metadata": {
        "id": "yACJyJtOzE2U"
      }
    },
    {
      "cell_type": "code",
      "source": [
        "#In this code chunk, I allowed list a and list b to be user inputs.\n",
        "a = list(input())\n",
        "b = list(input())\n",
        "count_bulls(a, b)"
      ],
      "metadata": {
        "colab": {
          "base_uri": "https://localhost:8080/"
        },
        "id": "XpSmAve2uWER",
        "outputId": "c8824045-1eb0-4e73-8d2c-5830f215a30b"
      },
      "execution_count": 94,
      "outputs": [
        {
          "name": "stdout",
          "output_type": "stream",
          "text": [
            "1234\n",
            "1254\n"
          ]
        },
        {
          "output_type": "execute_result",
          "data": {
            "text/plain": [
              "3"
            ]
          },
          "metadata": {},
          "execution_count": 94
        }
      ]
    },
    {
      "cell_type": "markdown",
      "source": [
        "2. **Count something else:**  \n",
        "To count the cows it will be helpful first to count how many of the elements occur in both strings, without paying attention their positions.\n",
        "Write a function called `count_animals` that takes two lists of the same length, and returns the number of elements of the second list that are also in the first list.  (In the game setting, each such element is either a Bull or a Cow, but don't worry about which is which for this problem.)\n",
        "You may assume the lists do not contain repeated elements, since this will be the case when the function is called in the game.\n",
        "\n",
        "> This time a sample run might look like\n",
        "```\n",
        "first = [11, 3, 17, 5, 1]\n",
        "second = [20, 2, 17, 3, 1]\n",
        "count_animals(first,second)\n",
        "```\n",
        "```\n",
        " 3\n",
        "```\n",
        "\n",
        "This one isn't started for you.  Remember to include a docstring.  This can also be done using a list comprehension, similar to the previous function.\n",
        "\n"
      ],
      "metadata": {
        "id": "aMsOmejkzNVN"
      }
    },
    {
      "cell_type": "code",
      "source": [
        "list1 = [2, 5, 6, 7, 8]\n",
        "list2 = [3, 5, 1, 6, 8]\n",
        "\n",
        "def count_animals(list1, list2):\n",
        "  '''\n",
        "  function confirms lists in argument are the same length\n",
        "  if lists are same length, function counts the elements that occur in both lists\n",
        "  '''\n",
        "  if len(list1) != len(list2):\n",
        "      raise ValueError(\"The lengths of the lists must be the same length.\")\n",
        "  #Starts counter for animals. For each item 'x' in the list1 that is also in\n",
        "  #list 2, the number of animals increases by 1\n",
        "  animals = 0\n",
        "  for x in list1:\n",
        "      if x in list2:\n",
        "            animals += 1\n",
        "  return animals\n",
        "\n",
        "print(count_animals(list1, list2))"
      ],
      "metadata": {
        "id": "yRX219q02e6i",
        "outputId": "11b4b95a-8707-454c-aafe-a21bd64dd6d4",
        "colab": {
          "base_uri": "https://localhost:8080/"
        }
      },
      "execution_count": 95,
      "outputs": [
        {
          "output_type": "stream",
          "name": "stdout",
          "text": [
            "3\n"
          ]
        }
      ]
    },
    {
      "cell_type": "code",
      "source": [
        "#Output is the text contained in the doc string I created for the function count_animals\n",
        "print(count_animals.__doc__)"
      ],
      "metadata": {
        "id": "XYBqhgyIG0sa",
        "outputId": "5edf6c64-a268-4e8e-e121-21c9af4c038f",
        "colab": {
          "base_uri": "https://localhost:8080/"
        }
      },
      "execution_count": 96,
      "outputs": [
        {
          "output_type": "stream",
          "name": "stdout",
          "text": [
            "\n",
            "  function confirms lists in argument are the same length\n",
            "  if lists are same length, function counts the elements that occur in both lists\n",
            "  \n"
          ]
        }
      ]
    },
    {
      "cell_type": "markdown",
      "source": [
        "Again, demonstrate below that you have tested your code and that it works."
      ],
      "metadata": {
        "id": "HXRNwANS2f-4"
      }
    },
    {
      "cell_type": "code",
      "source": [
        "list1 = [3, 4, 5, 6, 7]\n",
        "list2 = [4, 2, 5, 7, 8]\n",
        "count_animals(list1, list2)"
      ],
      "metadata": {
        "colab": {
          "base_uri": "https://localhost:8080/"
        },
        "id": "8xwLfpcMwJS_",
        "outputId": "058892b7-d2c6-40a2-ad31-46cf8e47ee44"
      },
      "execution_count": 97,
      "outputs": [
        {
          "output_type": "execute_result",
          "data": {
            "text/plain": [
              "3"
            ]
          },
          "metadata": {},
          "execution_count": 97
        }
      ]
    },
    {
      "cell_type": "markdown",
      "source": [
        "3. **Count the cows:**  \n",
        "Write a function called `count_cows` that counts the cows.  \n",
        "> This time a sample run might look like\n",
        "```\n",
        "first = [11, 3, 17, 5, 1]\n",
        "second = [20, 2, 17, 3, 1]\n",
        "count_cows(first,second)\n",
        "```\n",
        "```\n",
        " 1\n",
        "```\n",
        "*Use the two previously defined functions to help you!  \n",
        "In fact, remember that the only reason we wrote the `count_animals` function was to help count the cows.*\n",
        "\n",
        "You can do this with only two lines of code, not counting documentation!"
      ],
      "metadata": {
        "id": "x2DAPkxj2GMo"
      }
    },
    {
      "cell_type": "code",
      "source": [
        "# put the Cow counting function here\n",
        "lista = [1, 2, 3, 4, 5]\n",
        "listb = [2, 3, 6, 4, 8]\n",
        "def count_cows(lista, listb):\n",
        "  '''\n",
        "  function confirms lists in argument are the same length\n",
        "  if lists are same length, function counts the elements that occur in both lists\n",
        "  but are not in the same position\n",
        "  '''\n",
        "  num_of_cows = count_animals(lista, listb) - count_bulls(lista, listb)\n",
        "  return num_of_cows\n",
        "\n",
        "print(count_cows(lista, listb))"
      ],
      "metadata": {
        "id": "QnxnaOPI3YZO",
        "outputId": "1f14e7ea-c373-4995-e369-6a35b93f46a7",
        "colab": {
          "base_uri": "https://localhost:8080/"
        }
      },
      "execution_count": 98,
      "outputs": [
        {
          "output_type": "stream",
          "name": "stdout",
          "text": [
            "2\n"
          ]
        }
      ]
    },
    {
      "cell_type": "code",
      "source": [
        "#Testing count_cows function\n",
        "lista = [1, 2, 3, 5]\n",
        "listb = [1, 3, 2, 6]\n",
        "count_cows(lista, listb)"
      ],
      "metadata": {
        "colab": {
          "base_uri": "https://localhost:8080/"
        },
        "id": "rR44OmnLFkQq",
        "outputId": "6bec5f47-4774-469d-e213-dae228801349"
      },
      "execution_count": 99,
      "outputs": [
        {
          "output_type": "execute_result",
          "data": {
            "text/plain": [
              "2"
            ]
          },
          "metadata": {},
          "execution_count": 99
        }
      ]
    },
    {
      "cell_type": "code",
      "source": [
        "#Testing count_cows function\n",
        "lista = [1, 2, 5, 7]\n",
        "listb = [2, 7, 5, 6]\n",
        "count_cows(lista, listb)"
      ],
      "metadata": {
        "colab": {
          "base_uri": "https://localhost:8080/"
        },
        "id": "VO3TBWpAxxPB",
        "outputId": "5cfd413a-b93b-4df1-fe5f-40c0ba727864"
      },
      "execution_count": 100,
      "outputs": [
        {
          "output_type": "execute_result",
          "data": {
            "text/plain": [
              "2"
            ]
          },
          "metadata": {},
          "execution_count": 100
        }
      ]
    },
    {
      "cell_type": "code",
      "source": [
        "#Output is the text contained in my doc string for the function count_cows\n",
        "print(count_cows.__doc__)"
      ],
      "metadata": {
        "id": "rIZoPz_NMAJ-",
        "outputId": "aa6aa4c3-08a3-435c-a81d-6171f0d5c62a",
        "colab": {
          "base_uri": "https://localhost:8080/"
        }
      },
      "execution_count": 101,
      "outputs": [
        {
          "output_type": "stream",
          "name": "stdout",
          "text": [
            "\n",
            "  function confirms lists in argument are the same length\n",
            "  if lists are same length, function counts the elements that occur in both lists\n",
            "  but are not in the same position\n",
            "  \n"
          ]
        }
      ]
    },
    {
      "cell_type": "markdown",
      "metadata": {
        "id": "hWQhYDIVYjXr"
      },
      "source": [
        "4. **Create feedback string**  \n",
        "Write a `build_response_str` function that takes three numbers, say `b,c,l`, and outputs a string of total length `l` that consists of `b` B's, followed by `c` C's, and the rest X's (until the total length is `l`).\n",
        "\n",
        "> Sample run:\n",
        "```\n",
        "build_response_str(4,3,9)\n",
        "```\n",
        "```\n",
        "BBBBCCCXX\n",
        "```"
      ]
    },
    {
      "cell_type": "code",
      "source": [
        "#Create Feedback String\n",
        "b = 6\n",
        "c = 1\n",
        "l = 12\n",
        "def build_response_str(b, c, l):\n",
        "  '''\n",
        "  function ensures that l is not less than the sum of b and c\n",
        "  if it passes this step without error, the number of Xs at the end of the string\n",
        "  is calculated by substracting the sum of b + c from l\n",
        "  then response string is created by multiplying the numbers by the letters\n",
        "  '''\n",
        "  if l < b + c:\n",
        "    raise ValueError(\"The string length should be not be smaller than the sum of b and c\")\n",
        "  #This is necessary because the list length cannot be less than number of bulls and cows.\n",
        "  #It can be equal to (b + c) if there are no misses, though.\n",
        "  remaininglength = l - (b + c)\n",
        "  #This essentially calculates the number of misses; total number of elements (l) in list not including\n",
        "  #bulls and cows (b + c)\n",
        "  responsestring = 'B' * b + 'C' * c + 'X' * remaininglength\n",
        "  #creates feedback string without giving positional feedback\n",
        "  return responsestring\n",
        "print(build_response_str(b, c, l))\n"
      ],
      "metadata": {
        "id": "GSimWqUsMaPE",
        "outputId": "c19c5a0a-4d9e-4bc9-93d3-2a9b517e0b26",
        "colab": {
          "base_uri": "https://localhost:8080/"
        }
      },
      "execution_count": 74,
      "outputs": [
        {
          "output_type": "stream",
          "name": "stdout",
          "text": [
            "BBBBBBCXXXXX\n"
          ]
        }
      ]
    },
    {
      "cell_type": "code",
      "source": [
        "#Output is the text contained in my doc string for build_response_str function\n",
        "print(build_response_str.__doc__)"
      ],
      "metadata": {
        "id": "u1tWSHN6OySi",
        "outputId": "f1d40408-455d-4e5b-e3b0-a014993d72a6",
        "colab": {
          "base_uri": "https://localhost:8080/"
        }
      },
      "execution_count": 75,
      "outputs": [
        {
          "output_type": "stream",
          "name": "stdout",
          "text": [
            "\n",
            "  function ensures that l is not less than the sum of b and c\n",
            "  if it passes this step without error, the number of Xs at the end of the string\n",
            "  is calculated by substracting the sum of b + c from l\n",
            "  then response string is created by multiplying the numbers by the letters\n",
            "  \n"
          ]
        }
      ]
    },
    {
      "cell_type": "markdown",
      "source": [
        "Test your code here."
      ],
      "metadata": {
        "id": "2D14kxTU7ApH"
      }
    },
    {
      "cell_type": "code",
      "source": [
        "b = 12\n",
        "c= 1\n",
        "l = 13\n",
        "build_response_str(b, c, l)"
      ],
      "metadata": {
        "colab": {
          "base_uri": "https://localhost:8080/",
          "height": 35
        },
        "id": "C69TPcnKzAIp",
        "outputId": "40f787ae-cb0d-4a2c-9e20-4700960c1c6e"
      },
      "execution_count": 76,
      "outputs": [
        {
          "output_type": "execute_result",
          "data": {
            "text/plain": [
              "'BBBBBBBBBBBBC'"
            ],
            "application/vnd.google.colaboratory.intrinsic+json": {
              "type": "string"
            }
          },
          "metadata": {},
          "execution_count": 76
        }
      ]
    },
    {
      "cell_type": "code",
      "source": [
        "#Testing Code Making B, C, and L user inputs, instead.\n",
        "#Necessary to convert inputs to integers, otherwise build_response_str function will not operate correctly.\n",
        "b = int(input())\n",
        "c = int(input())\n",
        "l = int(input())\n",
        "\n",
        "build_response_str(b, c, l)"
      ],
      "metadata": {
        "colab": {
          "base_uri": "https://localhost:8080/",
          "height": 89
        },
        "id": "rjpIfhGczqPc",
        "outputId": "00fa0236-e02a-4013-813c-2367122bafb4"
      },
      "execution_count": 77,
      "outputs": [
        {
          "name": "stdout",
          "output_type": "stream",
          "text": [
            "1\n",
            "3\n",
            "5\n"
          ]
        },
        {
          "output_type": "execute_result",
          "data": {
            "text/plain": [
              "'BCCCX'"
            ],
            "application/vnd.google.colaboratory.intrinsic+json": {
              "type": "string"
            }
          },
          "metadata": {},
          "execution_count": 77
        }
      ]
    },
    {
      "cell_type": "markdown",
      "metadata": {
        "id": "omzE6sLKwsMC"
      },
      "source": [
        "5.  **Generate feedback for guesses**  \n",
        "Write a function `response(first,second)` that takes two lists of the same length, and outputs a string consisting of some number of B's followed by some number of C's followed by some number of X's, where the numbers correspond to the things we counted above.  That is, if `first` were the secret code in the game and `second` were the user's guess, then we would print one B for each Bull, one C for each Cow, and one X for each Miss. The total output string should have the same length as the input strings.\n",
        "\n",
        "> Sample run:\n",
        "```\n",
        "first = [11, 3, 17, 5, 1]\n",
        "second = [20, 2, 17, 3, 1]\n",
        "response(first,second)\n",
        "```\n",
        "```\n",
        " BBCXX\n",
        "```\n",
        "\n",
        "With all the functions you've already put in place, this should be simple.  Test your code once it's written.\n"
      ]
    },
    {
      "cell_type": "code",
      "source": [
        "#building function for step 5\n",
        "first = [1, 2, 3, 5, 6]\n",
        "#Second List is representative of user guess in this code chunk.\n",
        "second = [5, 2, 4, 1, 3]\n",
        "def response(first, second):\n",
        "  '''\n",
        "  function verifies list lengths match\n",
        "  if yes, then it counts number of elements that are the same and in same position as b\n",
        "  then it counts number of elements that are the same but not in same position as c\n",
        "  then it calculates the number of misses by subtracting the sum of b and c from the total length of the list\n",
        "  '''\n",
        "  if len(first) != len(second):\n",
        "    raise ValueError(\"The lengths of the lists must be the same length.\")\n",
        "  l = len(second)\n",
        "  #assigns the length of the user guess to variable l\n",
        "  b = count_bulls(first, second)\n",
        "  #assigns number of bulls to variable b\n",
        "  c = count_cows(first, second)\n",
        "  #assigns number of cows to variable c\n",
        "  #uses function from above to generate a feedback string\n",
        "  output = build_response_str(b, c, l)\n",
        "\n",
        "  return output\n",
        "\n",
        "print(response(first, second))\n"
      ],
      "metadata": {
        "id": "RD1qq7l783y5",
        "outputId": "2db071b1-c21f-4fbe-ebea-8c38937a9600",
        "colab": {
          "base_uri": "https://localhost:8080/"
        }
      },
      "execution_count": 102,
      "outputs": [
        {
          "output_type": "stream",
          "name": "stdout",
          "text": [
            "BCCCX\n"
          ]
        }
      ]
    },
    {
      "cell_type": "code",
      "source": [
        "#Output is the text contained in my doc string.\n",
        "#Question: Have my doc strings been adequate up to this point?\n",
        "print(response.__doc__)"
      ],
      "metadata": {
        "id": "OEHzihtwUsiI",
        "outputId": "e2e830cb-6c38-4f5c-bdf7-cf618a46e229",
        "colab": {
          "base_uri": "https://localhost:8080/"
        }
      },
      "execution_count": 79,
      "outputs": [
        {
          "output_type": "stream",
          "name": "stdout",
          "text": [
            "\n",
            "  function verifies list lengths match\n",
            "  if yes, then it counts number of elements that are the same and in same position as b\n",
            "  then it counts number of elements that are the same but not in same position as c\n",
            "  then it calculates the number of misses by subtracting the sum of b and c from the total length of the list\n",
            "  \n"
          ]
        }
      ]
    },
    {
      "cell_type": "code",
      "source": [
        "#Testing Code\n",
        "first = list(input())\n",
        "second = list(input())\n",
        "response(first, second)"
      ],
      "metadata": {
        "colab": {
          "base_uri": "https://localhost:8080/",
          "height": 71
        },
        "id": "h_S9Hvbq1TzL",
        "outputId": "da0736aa-faed-4918-e278-305d69da270f"
      },
      "execution_count": 80,
      "outputs": [
        {
          "name": "stdout",
          "output_type": "stream",
          "text": [
            "1234\n",
            "1436\n"
          ]
        },
        {
          "output_type": "execute_result",
          "data": {
            "text/plain": [
              "'BBCX'"
            ],
            "application/vnd.google.colaboratory.intrinsic+json": {
              "type": "string"
            }
          },
          "metadata": {},
          "execution_count": 80
        }
      ]
    },
    {
      "cell_type": "markdown",
      "metadata": {
        "id": "LWshNPjPZJdQ"
      },
      "source": [
        "6.  **Choose the secret code**  \n",
        "The `random` package, and specifically the `sample` sub-package, is useful for generating random samples.  Try running the following lines of code several times.\n",
        "\n"
      ]
    },
    {
      "cell_type": "code",
      "source": [
        "from random import sample\n",
        "\n",
        "sample(range(1,7),4)  # the first argument is the population to be sampled, and the second is the number of samples\n",
        "                      # recall that `range(a,b)` includes `a` but stops at `b-1`"
      ],
      "metadata": {
        "id": "OzEZ5BQZ85jV",
        "outputId": "3b8afe4d-e931-41ee-b830-97f43a9ef981",
        "colab": {
          "base_uri": "https://localhost:8080/"
        }
      },
      "execution_count": 81,
      "outputs": [
        {
          "output_type": "execute_result",
          "data": {
            "text/plain": [
              "[3, 6, 1, 2]"
            ]
          },
          "metadata": {},
          "execution_count": 81
        }
      ]
    },
    {
      "cell_type": "code",
      "source": [
        "#Running Line of Code Again as Instructed\n",
        "sample(range(1,7),4)"
      ],
      "metadata": {
        "colab": {
          "base_uri": "https://localhost:8080/"
        },
        "id": "tVcxYtFD2Ak2",
        "outputId": "2c8a0616-f1a2-48c1-ab3a-a6a76691aaa0"
      },
      "execution_count": 82,
      "outputs": [
        {
          "output_type": "execute_result",
          "data": {
            "text/plain": [
              "[2, 4, 3, 5]"
            ]
          },
          "metadata": {},
          "execution_count": 82
        }
      ]
    },
    {
      "cell_type": "code",
      "source": [
        "#Running Line of Code Again as Instructed\n",
        "sample(range(1,7),4)"
      ],
      "metadata": {
        "colab": {
          "base_uri": "https://localhost:8080/"
        },
        "id": "JyoFWk0J2DT7",
        "outputId": "128e14e0-330e-4c48-f50c-442fef0dc779"
      },
      "execution_count": 83,
      "outputs": [
        {
          "output_type": "execute_result",
          "data": {
            "text/plain": [
              "[5, 2, 1, 3]"
            ]
          },
          "metadata": {},
          "execution_count": 83
        }
      ]
    },
    {
      "cell_type": "markdown",
      "source": [
        "What type of object is returned by the `sample` function?\n"
      ],
      "metadata": {
        "id": "N1BOe2Xd-kr4"
      }
    },
    {
      "cell_type": "code",
      "source": [
        "#Using type function to get the type of object returned by the sample function.\n",
        "print(type(sample(range(1,7),4)))"
      ],
      "metadata": {
        "id": "U5AAu9sG-slX",
        "colab": {
          "base_uri": "https://localhost:8080/"
        },
        "outputId": "acd1599d-c259-4f98-d667-1f8694373a37"
      },
      "execution_count": 84,
      "outputs": [
        {
          "output_type": "stream",
          "name": "stdout",
          "text": [
            "<class 'list'>\n"
          ]
        }
      ]
    },
    {
      "cell_type": "markdown",
      "source": [
        "The type of object returned by the sample function is a list."
      ],
      "metadata": {
        "id": "gbelYBSNDy_X"
      }
    },
    {
      "cell_type": "markdown",
      "source": [],
      "metadata": {
        "id": "yGZw8xFZ-uN4"
      }
    },
    {
      "cell_type": "markdown",
      "source": [
        "7. **Verify the guess**  \n",
        "Finish writing a function called `get_guess` (started below) to prompt the user for a guess and then make sure the input is valid according to the rules of the game.\n",
        "The prompt is already given.  Note that the `list` command converts the input into a list of characters so that it can be passed to the other functions (which are expecting lists).   \n",
        ">**Alert:  you will likely have to think more about data types before this is all over.**"
      ],
      "metadata": {
        "id": "mbK84TdIAVsO"
      }
    },
    {
      "cell_type": "code",
      "source": [
        "def get_guess():\n",
        "  '''\n",
        "  function prompts user to input their guess\n",
        "  function checks if the list length is 4, if not it prompts user to try again\n",
        "  function then checks if all parts of the guess are intefers, if not it prompts user to try again\n",
        "  function then checks if each integer in the list is in the domain [1,6], if not it prompts user to try again\n",
        "  lastly function checks if the guess contains repeated integers, if so it prompts user to try again\n",
        "  '''\n",
        "  goodguess = False\n",
        "  while goodguess == False:\n",
        "    guess = list(input(\"Enter your guess:\"))\n",
        "    #Converts guess to a list so other functions will work.\n",
        "    if len(guess) != 4:\n",
        "      print(\"Invalid guess. Please enter exactly 4 digits.\")\n",
        "      continue\n",
        "      #Ensures that guess is only 4 digits long.\n",
        "    try:\n",
        "      guess = [int(x) for x in guess]\n",
        "    except ValueError:\n",
        "      print(\"Invalid guess. All parts of guess should be integers.\")\n",
        "      continue\n",
        "      #Ensures that elements of guess are integers.\n",
        "    if not all(1 <= x <= 6 for x in guess):\n",
        "      print(\"Invalid guess. Please guess 4 numbers in the domain [1, 6].\")\n",
        "      continue\n",
        "      #Ensures that integers in the guess are in the allowed range of numbers.\n",
        "    if len(set(guess)) != len(guess):\n",
        "      print(\"Invalid guess. Please do not repeat integers in your guess.\")\n",
        "      continue\n",
        "    goodguess = True\n",
        "      #Ensures that digits are not repeated.\n",
        "    return guess\n",
        "\n",
        "print(get_guess())"
      ],
      "metadata": {
        "id": "13HGg6VvBXSH",
        "colab": {
          "base_uri": "https://localhost:8080/"
        },
        "outputId": "46d6fd6b-0390-4b18-e300-34fd39682a8f"
      },
      "execution_count": 85,
      "outputs": [
        {
          "output_type": "stream",
          "name": "stdout",
          "text": [
            "Enter your guess:12345\n",
            "Invalid guess. Please enter exactly 4 digits.\n",
            "Enter your guess:5821\n",
            "Invalid guess. Please guess 4 numbers in the domain [1, 6].\n",
            "Enter your guess:h321\n",
            "Invalid guess. All parts of guess should be integers.\n",
            "Enter your guess:1223\n",
            "Invalid guess. Please do not repeat integers in your guess.\n",
            "Enter your guess:1234\n",
            "[1, 2, 3, 4]\n"
          ]
        }
      ]
    },
    {
      "cell_type": "code",
      "source": [
        "#Testing Code\n",
        "#Examples of Code working are in the output above.\n",
        "get_guess()"
      ],
      "metadata": {
        "colab": {
          "base_uri": "https://localhost:8080/"
        },
        "id": "bJlfqhJK2j1w",
        "outputId": "4608fd18-617a-43aa-df8d-e31bbdf28548"
      },
      "execution_count": 86,
      "outputs": [
        {
          "name": "stdout",
          "output_type": "stream",
          "text": [
            "Enter your guess:3456\n"
          ]
        },
        {
          "output_type": "execute_result",
          "data": {
            "text/plain": [
              "[3, 4, 5, 6]"
            ]
          },
          "metadata": {},
          "execution_count": 86
        }
      ]
    },
    {
      "cell_type": "code",
      "source": [
        "print(get_guess().__doc__)\n",
        "#Professor Abrams told me to leave this here for reference and that it is not wrong."
      ],
      "metadata": {
        "colab": {
          "base_uri": "https://localhost:8080/"
        },
        "id": "1au1bb4dLBZi",
        "outputId": "0dfc6c9f-df7f-4ceb-efca-855980975740"
      },
      "execution_count": 103,
      "outputs": [
        {
          "output_type": "stream",
          "name": "stdout",
          "text": [
            "Enter your guess:1234\n",
            "Built-in mutable sequence.\n",
            "\n",
            "If no argument is given, the constructor creates a new empty list.\n",
            "The argument must be an iterable if specified.\n"
          ]
        }
      ]
    },
    {
      "cell_type": "markdown",
      "source": [
        "As usual, test your code.  What type of objects are we dealing with here?"
      ],
      "metadata": {
        "id": "PSPYpeZYONf0"
      }
    },
    {
      "cell_type": "code",
      "source": [
        "print(type(get_guess()))"
      ],
      "metadata": {
        "id": "ytgf6BfiOPNh",
        "colab": {
          "base_uri": "https://localhost:8080/"
        },
        "outputId": "8b6e9c5e-21bf-477e-8071-0b714cc60afb"
      },
      "execution_count": 104,
      "outputs": [
        {
          "output_type": "stream",
          "name": "stdout",
          "text": [
            "Enter your guess:1234\n",
            "<class 'list'>\n"
          ]
        }
      ]
    },
    {
      "cell_type": "markdown",
      "source": [
        "With a valid guess that is accepted by the function, the type of object is a list. The guess is converted to a list in order to allow the game to eventually be able to count cows, bulls, and misses."
      ],
      "metadata": {
        "id": "vbuAM2VSKG5f"
      }
    },
    {
      "cell_type": "markdown",
      "source": [
        "8. **Put it all together**  \n",
        "Finally, fill in the details of the function `bulls_cows` below so that it will play the game of Bulls and Cows when called.  Note that the function takes no arguments and returns nothing.\n"
      ],
      "metadata": {
        "id": "WdtvUrA4-uzn"
      }
    },
    {
      "cell_type": "code",
      "source": [
        "def bulls_cows():\n",
        "  '''\n",
        "  This function plays the game \"Bulls and Cows.\"\n",
        "  It takes no arguments and returns nothing.\n",
        "  '''\n",
        "  number_of_guesses = 0\n",
        "  first = list(sample(range(1, 7), 4))\n",
        "  while number_of_guesses < 6 :\n",
        "    second = list(get_guess())\n",
        "    number_of_guesses += 1\n",
        "    if second == first:\n",
        "      print(\"You guessed it!\")\n",
        "      return\n",
        "    else:\n",
        "      print(response(first, second))\n",
        "\n",
        "  print(\"You have run out of guesses. The secret code was:\", first)\n",
        "  return\n",
        "\n",
        "bulls_cows()"
      ],
      "metadata": {
        "colab": {
          "base_uri": "https://localhost:8080/"
        },
        "id": "royjVeN4TEtc",
        "outputId": "ab4af93e-1c61-4090-fc8d-9ced8735c7ea"
      },
      "execution_count": 89,
      "outputs": [
        {
          "output_type": "stream",
          "name": "stdout",
          "text": [
            "Enter your guess:5891\n",
            "Invalid guess. Please guess 4 numbers in the domain [1, 6].\n",
            "Enter your guess:12345\n",
            "Invalid guess. Please enter exactly 4 digits.\n",
            "Enter your guess:1234\n",
            "CCCX\n",
            "Enter your guess:1235\n",
            "CCCX\n",
            "Enter your guess:1345\n",
            "BCCX\n",
            "Enter your guess:4316\n",
            "CCXX\n",
            "Enter your guess:5142\n",
            "BBCX\n",
            "Enter your guess:5143\n",
            "BCCX\n",
            "You have run out of guesses. The secret code was: [3, 5, 4, 2]\n"
          ]
        }
      ]
    },
    {
      "cell_type": "markdown",
      "metadata": {
        "id": "NzjqX_9K3OuV"
      },
      "source": [
        "Play the game a few times below.  Make sure it behaves as you think it should!"
      ]
    },
    {
      "cell_type": "code",
      "execution_count": 90,
      "metadata": {
        "id": "b-HELV-z3OuW",
        "colab": {
          "base_uri": "https://localhost:8080/"
        },
        "outputId": "c875f50f-f77b-4f75-a3ef-5cdd7210bf38"
      },
      "outputs": [
        {
          "output_type": "stream",
          "name": "stdout",
          "text": [
            "Enter your guess:5461\n",
            "BBCX\n",
            "Enter your guess:5463\n",
            "BCXX\n",
            "Enter your guess:2461\n",
            "BBBX\n",
            "Enter your guess:2561\n",
            "You guessed it!\n"
          ]
        }
      ],
      "source": [
        "bulls_cows()"
      ]
    },
    {
      "cell_type": "code",
      "source": [
        "bulls_cows()"
      ],
      "metadata": {
        "id": "inzOdtimDfGU",
        "colab": {
          "base_uri": "https://localhost:8080/"
        },
        "outputId": "bb8cad0d-db62-42cd-b2c4-37b575fa2d50"
      },
      "execution_count": 91,
      "outputs": [
        {
          "output_type": "stream",
          "name": "stdout",
          "text": [
            "Enter your guess:h456\n",
            "Invalid guess. All parts of guess should be integers.\n",
            "Enter your guess:9801\n",
            "Invalid guess. Please guess 4 numbers in the domain [1, 6].\n",
            "Enter your guess:12345\n",
            "Invalid guess. Please enter exactly 4 digits.\n",
            "Enter your guess:1234\n",
            "BCCX\n",
            "Enter your guess:2345\n",
            "CCCC\n",
            "Enter your guess:5432\n",
            "You guessed it!\n"
          ]
        }
      ]
    },
    {
      "cell_type": "code",
      "source": [
        "bulls_cows()"
      ],
      "metadata": {
        "id": "Eqw-5laFDfkG",
        "colab": {
          "base_uri": "https://localhost:8080/"
        },
        "outputId": "08b1dac4-150c-43b0-974d-03205673fd4b"
      },
      "execution_count": 92,
      "outputs": [
        {
          "output_type": "stream",
          "name": "stdout",
          "text": [
            "Enter your guess:4561\n",
            "BCCC\n",
            "Enter your guess:4165\n",
            "CCCC\n",
            "Enter your guess:6541\n",
            "BBCC\n",
            "Enter your guess:6451\n",
            "CCCC\n",
            "Enter your guess:1546\n",
            "You guessed it!\n"
          ]
        }
      ]
    },
    {
      "cell_type": "markdown",
      "source": [
        "9. **Reflect**  \n",
        "Think of at least three ways you could change the rules or setup of the game, and in each case describe (in one sentence, you don't need to write code) what you would have to do to modify your code to play the new version of the game.  Use a text box below for each of your ideas."
      ],
      "metadata": {
        "id": "a58-KCX4ELRO"
      }
    },
    {
      "cell_type": "markdown",
      "source": [
        "(1) Changing the range of integers accepted. To adjust for this, I would change the sample function range and the conditions in my get_guess function to allow for the new range of integers to be included."
      ],
      "metadata": {
        "id": "Jof2vIZSEfwo"
      }
    },
    {
      "cell_type": "markdown",
      "source": [
        "(2) Only giving bulls and cows as feedback without including the number of misses. I would simply delete this part of the feeback string that recorded the number of misses and included them in the output."
      ],
      "metadata": {
        "id": "f2_QlBavEiqW"
      }
    },
    {
      "cell_type": "markdown",
      "source": [
        "(3) Allowing 10 guesses. I would change the part of my code that accounts for this to the number 10."
      ],
      "metadata": {
        "id": "sqfq2EFpEjZt"
      }
    },
    {
      "cell_type": "markdown",
      "source": [
        "You could also allow the user to input the number of guesses they want to take or the range of integers they want the code to include by making these variables with an input function."
      ],
      "metadata": {
        "id": "z8HFCjH7LdVf"
      }
    }
  ],
  "metadata": {
    "colab": {
      "provenance": [],
      "include_colab_link": true
    },
    "kernelspec": {
      "display_name": "Python 3",
      "name": "python3"
    },
    "language_info": {
      "name": "python"
    }
  },
  "nbformat": 4,
  "nbformat_minor": 0
}