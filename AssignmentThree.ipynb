{
  "nbformat": 4,
  "nbformat_minor": 0,
  "metadata": {
    "colab": {
      "provenance": [],
      "authorship_tag": "ABX9TyNtrJM8IskDgeNTb0IaRNGT",
      "include_colab_link": true
    },
    "kernelspec": {
      "name": "python3",
      "display_name": "Python 3"
    },
    "language_info": {
      "name": "python"
    }
  },
  "cells": [
    {
      "cell_type": "markdown",
      "metadata": {
        "id": "view-in-github",
        "colab_type": "text"
      },
      "source": [
        "<a href=\"https://colab.research.google.com/github/kyliestephens/DS1002/blob/main/AssignmentThree.ipynb\" target=\"_parent\"><img src=\"https://colab.research.google.com/assets/colab-badge.svg\" alt=\"Open In Colab\"/></a>"
      ]
    },
    {
      "cell_type": "code",
      "execution_count": 15,
      "metadata": {
        "colab": {
          "base_uri": "https://localhost:8080/"
        },
        "id": "SGwfIOOGHdWv",
        "outputId": "8b1f7ffe-a9f9-40ca-d6f5-15e1ef2046eb"
      },
      "outputs": [
        {
          "output_type": "stream",
          "name": "stdout",
          "text": [
            "Computer has selected a number 0-100. Try to guess what this number is!\n",
            "What do you think the randomly generated number is (0-100)? 30\n",
            "Too Low\n",
            "Computer has selected a number 0-100. Try to guess what this number is!\n",
            "What do you think the randomly generated number is (0-100)? 500\n",
            "Not in correct number range. Remember to guess an integer 0-100.\n",
            "Computer has selected a number 0-100. Try to guess what this number is!\n",
            "What do you think the randomly generated number is (0-100)? -100\n",
            "Not in correct number range. Remember to guess an integer 0-100.\n",
            "Computer has selected a number 0-100. Try to guess what this number is!\n",
            "What do you think the randomly generated number is (0-100)? 40\n",
            "Too Low\n",
            "Computer has selected a number 0-100. Try to guess what this number is!\n",
            "What do you think the randomly generated number is (0-100)? 50\n",
            "Too Low\n",
            "Computer has selected a number 0-100. Try to guess what this number is!\n",
            "What do you think the randomly generated number is (0-100)? 70\n",
            "Too Low\n",
            "Computer has selected a number 0-100. Try to guess what this number is!\n",
            "What do you think the randomly generated number is (0-100)? 90\n",
            "Too High\n",
            "Computer has selected a number 0-100. Try to guess what this number is!\n",
            "What do you think the randomly generated number is (0-100)? 80\n",
            "You got it! Game over :)\n"
          ]
        }
      ],
      "source": [
        "import random\n",
        "random_number = random.randint(0,100)\n",
        "success = False\n",
        "while success == False:\n",
        "  print(\"Computer has selected a number 0-100. Try to guess what this number is!\")\n",
        "  Guess = input(\"What do you think the randomly generated number is (0-100)? \")\n",
        "  try:\n",
        "    if int(Guess) == random_number :\n",
        "      print(\"You got it! Game over :)\")\n",
        "      success = True\n",
        "    elif int(Guess) > 100 or int(Guess) < 0:\n",
        "      print(\"Not in correct number range. Remember to guess an integer 0-100.\")\n",
        "    elif 0 <= int(Guess) < random_number :\n",
        "      print(\"Too Low\")\n",
        "    else:\n",
        "      print(\"Too High\")\n",
        "  except:\n",
        "    print(\"Invalid Input. Remember to guess an integer 0-100.\")"
      ]
    },
    {
      "cell_type": "markdown",
      "source": [
        "This assignment took me approximately 45 minutes to complete."
      ],
      "metadata": {
        "id": "jqESJh5ihvQC"
      }
    }
  ]
}